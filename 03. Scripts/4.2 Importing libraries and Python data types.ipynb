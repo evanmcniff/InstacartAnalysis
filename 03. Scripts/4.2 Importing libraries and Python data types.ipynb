{
 "cells": [
  {
   "cell_type": "markdown",
   "id": "607d71b6",
   "metadata": {},
   "source": [
    "# 01. Importing libraries"
   ]
  },
  {
   "cell_type": "code",
   "execution_count": 2,
   "id": "0f8df04a",
   "metadata": {},
   "outputs": [],
   "source": [
    "# Import libraries\n",
    "import pandas as pd\n",
    "import numpy as np\n",
    "import os"
   ]
  },
  {
   "cell_type": "markdown",
   "id": "b1090a5c",
   "metadata": {},
   "source": [
    "# 02. Exploring Data Types"
   ]
  },
  {
   "cell_type": "code",
   "execution_count": 21,
   "id": "b0d6d34d",
   "metadata": {},
   "outputs": [],
   "source": [
    "x = 25"
   ]
  },
  {
   "cell_type": "code",
   "execution_count": 22,
   "id": "10c9992e",
   "metadata": {},
   "outputs": [],
   "source": [
    "y = 50"
   ]
  },
  {
   "cell_type": "code",
   "execution_count": 23,
   "id": "0d908577",
   "metadata": {},
   "outputs": [],
   "source": [
    "z = 150"
   ]
  },
  {
   "cell_type": "code",
   "execution_count": 24,
   "id": "8d87102b",
   "metadata": {},
   "outputs": [
    {
     "data": {
      "text/plain": [
       "100"
      ]
     },
     "execution_count": 24,
     "metadata": {},
     "output_type": "execute_result"
    }
   ],
   "source": [
    "x + x + y"
   ]
  },
  {
   "cell_type": "code",
   "execution_count": 25,
   "id": "4b6b5302",
   "metadata": {},
   "outputs": [
    {
     "data": {
      "text/plain": [
       "100"
      ]
     },
     "execution_count": 25,
     "metadata": {},
     "output_type": "execute_result"
    }
   ],
   "source": [
    "z - y"
   ]
  },
  {
   "cell_type": "code",
   "execution_count": 26,
   "id": "dec24b92",
   "metadata": {},
   "outputs": [
    {
     "data": {
      "text/plain": [
       "100"
      ]
     },
     "execution_count": 26,
     "metadata": {},
     "output_type": "execute_result"
    }
   ],
   "source": [
    "z - x - x"
   ]
  },
  {
   "cell_type": "code",
   "execution_count": 27,
   "id": "46e971e5",
   "metadata": {},
   "outputs": [],
   "source": [
    "e = 1.5"
   ]
  },
  {
   "cell_type": "code",
   "execution_count": 28,
   "id": "50bbda85",
   "metadata": {},
   "outputs": [],
   "source": [
    "m = 5.8"
   ]
  },
  {
   "cell_type": "code",
   "execution_count": 29,
   "id": "a254c9d0",
   "metadata": {},
   "outputs": [
    {
     "data": {
      "text/plain": [
       "0.25862068965517243"
      ]
     },
     "execution_count": 29,
     "metadata": {},
     "output_type": "execute_result"
    }
   ],
   "source": [
    "e / m"
   ]
  },
  {
   "cell_type": "code",
   "execution_count": 30,
   "id": "531a5b31",
   "metadata": {},
   "outputs": [
    {
     "data": {
      "text/plain": [
       "3.8666666666666667"
      ]
     },
     "execution_count": 30,
     "metadata": {},
     "output_type": "execute_result"
    }
   ],
   "source": [
    "m / e"
   ]
  },
  {
   "cell_type": "code",
   "execution_count": 31,
   "id": "9f4bca6e",
   "metadata": {},
   "outputs": [],
   "source": [
    "a = 'basket'"
   ]
  },
  {
   "cell_type": "code",
   "execution_count": 32,
   "id": "33134f85",
   "metadata": {},
   "outputs": [],
   "source": [
    "b = 'ball'"
   ]
  },
  {
   "cell_type": "code",
   "execution_count": 33,
   "id": "c36e9284",
   "metadata": {},
   "outputs": [
    {
     "data": {
      "text/plain": [
       "'basketball'"
      ]
     },
     "execution_count": 33,
     "metadata": {},
     "output_type": "execute_result"
    }
   ],
   "source": [
    "a + b"
   ]
  },
  {
   "cell_type": "code",
   "execution_count": 43,
   "id": "c683b6e8",
   "metadata": {},
   "outputs": [],
   "source": [
    "f = 'Have '"
   ]
  },
  {
   "cell_type": "code",
   "execution_count": 44,
   "id": "94902f46",
   "metadata": {},
   "outputs": [],
   "source": [
    "g = 'a '"
   ]
  },
  {
   "cell_type": "code",
   "execution_count": 45,
   "id": "819c2d61",
   "metadata": {},
   "outputs": [],
   "source": [
    "h = 'nice '"
   ]
  },
  {
   "cell_type": "code",
   "execution_count": 38,
   "id": "f8d8e9dc",
   "metadata": {},
   "outputs": [],
   "source": [
    "i = 'day'"
   ]
  },
  {
   "cell_type": "code",
   "execution_count": 47,
   "id": "d4ff9921",
   "metadata": {},
   "outputs": [],
   "source": [
    "j = 'see '"
   ]
  },
  {
   "cell_type": "code",
   "execution_count": 48,
   "id": "d88a4438",
   "metadata": {},
   "outputs": [],
   "source": [
    "k = 'you '"
   ]
  },
  {
   "cell_type": "code",
   "execution_count": 41,
   "id": "48680b87",
   "metadata": {},
   "outputs": [],
   "source": [
    "l = 'later'"
   ]
  },
  {
   "cell_type": "code",
   "execution_count": 46,
   "id": "67ef8be6",
   "metadata": {},
   "outputs": [
    {
     "data": {
      "text/plain": [
       "'Have a nice day'"
      ]
     },
     "execution_count": 46,
     "metadata": {},
     "output_type": "execute_result"
    }
   ],
   "source": [
    "f + g + h + i"
   ]
  },
  {
   "cell_type": "code",
   "execution_count": 49,
   "id": "f91241e3",
   "metadata": {},
   "outputs": [
    {
     "data": {
      "text/plain": [
       "'see you later'"
      ]
     },
     "execution_count": 49,
     "metadata": {},
     "output_type": "execute_result"
    }
   ],
   "source": [
    "j + k + l"
   ]
  },
  {
   "cell_type": "code",
   "execution_count": 50,
   "id": "c2ad2199",
   "metadata": {},
   "outputs": [],
   "source": [
    "p = 'ha'"
   ]
  },
  {
   "cell_type": "code",
   "execution_count": 51,
   "id": "a6ad693d",
   "metadata": {},
   "outputs": [
    {
     "data": {
      "text/plain": [
       "'hahahahahahahahahahahahahahahahahahahahahahahahahahahahahahahahahahahahahahahahahahahahahahahahahahahahahahahahahahahahahahahahahahahahahahahahahahahahahahahahahahahahahahahahahahahahahahahahahahahaha'"
      ]
     },
     "execution_count": 51,
     "metadata": {},
     "output_type": "execute_result"
    }
   ],
   "source": [
    "p * 100"
   ]
  },
  {
   "cell_type": "code",
   "execution_count": null,
   "id": "c7417f90",
   "metadata": {},
   "outputs": [],
   "source": []
  }
 ],
 "metadata": {
  "kernelspec": {
   "display_name": "Python 3 (ipykernel)",
   "language": "python",
   "name": "python3"
  },
  "language_info": {
   "codemirror_mode": {
    "name": "ipython",
    "version": 3
   },
   "file_extension": ".py",
   "mimetype": "text/x-python",
   "name": "python",
   "nbconvert_exporter": "python",
   "pygments_lexer": "ipython3",
   "version": "3.11.5"
  }
 },
 "nbformat": 4,
 "nbformat_minor": 5
}
