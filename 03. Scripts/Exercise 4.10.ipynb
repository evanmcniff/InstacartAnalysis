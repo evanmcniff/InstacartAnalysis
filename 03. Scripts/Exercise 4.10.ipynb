{
 "cells": [
  {
   "cell_type": "markdown",
   "id": "ab2d910f",
   "metadata": {},
   "source": [
    "Contents:\n",
    "\n",
    "Regional flag creation\n",
    "Customer Profiles\n",
    "Department Assignment\n",
    "Low Activity flag\n",
    "Income Groups\n",
    "Age Groups\n",
    "Dependant Groups\n",
    "Profile Visualizations and export"
   ]
  },
  {
   "cell_type": "markdown",
   "id": "272a92ac",
   "metadata": {},
   "source": [
    "# Importing Libraries and Data"
   ]
  },
  {
   "cell_type": "code",
   "execution_count": 29,
   "id": "a6035055",
   "metadata": {},
   "outputs": [],
   "source": [
    "# Libraries\n",
    "import pandas as pd\n",
    "import numpy as np \n",
    "import os\n",
    "import matplotlib.pyplot as plt\n",
    "import seaborn as sns\n",
    "import scipy\n"
   ]
  },
  {
   "cell_type": "code",
   "execution_count": 30,
   "id": "e82dbb37",
   "metadata": {},
   "outputs": [],
   "source": [
    "# File Path\n",
    "path = r'/Users/Evan/Desktop/Instacart Analysis'"
   ]
  },
  {
   "cell_type": "code",
   "execution_count": 1,
   "id": "e5579879",
   "metadata": {},
   "outputs": [
    {
     "ename": "NameError",
     "evalue": "name 'pd' is not defined",
     "output_type": "error",
     "traceback": [
      "\u001b[0;31m---------------------------------------------------------------------------\u001b[0m",
      "\u001b[0;31mNameError\u001b[0m                                 Traceback (most recent call last)",
      "Cell \u001b[0;32mIn[1], line 2\u001b[0m\n\u001b[1;32m      1\u001b[0m \u001b[38;5;66;03m# Data\u001b[39;00m\n\u001b[0;32m----> 2\u001b[0m df \u001b[38;5;241m=\u001b[39m pd\u001b[38;5;241m.\u001b[39mread_pickle(os\u001b[38;5;241m.\u001b[39mpath\u001b[38;5;241m.\u001b[39mjoin(path, \u001b[38;5;124m'\u001b[39m\u001b[38;5;124m02. Data\u001b[39m\u001b[38;5;124m'\u001b[39m, \u001b[38;5;124m'\u001b[39m\u001b[38;5;124mPrepared Data\u001b[39m\u001b[38;5;124m'\u001b[39m, \u001b[38;5;124m'\u001b[39m\u001b[38;5;124mord_prod_cust_combined.pkl\u001b[39m\u001b[38;5;124m'\u001b[39m))\n",
      "\u001b[0;31mNameError\u001b[0m: name 'pd' is not defined"
     ]
    }
   ],
   "source": [
    "# Data\n",
    "df = pd.read_pickle(os.path.join(path, '02. Data', 'Prepared Data', 'ord_prod_cust_combined.pkl'))"
   ]
  },
  {
   "cell_type": "markdown",
   "id": "be9f6bcb",
   "metadata": {},
   "source": [
    "# Addressing PII in data"
   ]
  },
  {
   "cell_type": "code",
   "execution_count": null,
   "id": "b3ca4802",
   "metadata": {},
   "outputs": [],
   "source": [
    "# checking for PII data\n",
    "df.columns"
   ]
  },
  {
   "cell_type": "markdown",
   "id": "0904e8fd",
   "metadata": {},
   "source": [
    "Name columns have already been removed in a previous notebook"
   ]
  },
  {
   "cell_type": "markdown",
   "id": "f0785c4b",
   "metadata": {},
   "source": [
    "# Creating Regions"
   ]
  },
  {
   "cell_type": "code",
   "execution_count": null,
   "id": "c0be3083",
   "metadata": {},
   "outputs": [],
   "source": [
    "# region map\n",
    "region_map = {\n",
    "    'Maine' : 'Northeast',\n",
    "    'New Hampshire' : 'Northeast',\n",
    "    'Vermont' : 'Northeast',\n",
    "    'Massachusetts' : 'Northeast',\n",
    "    'Rhode Island' : 'Northeast',\n",
    "    'Connecticut' : 'Northeast',\n",
    "    'New York' : 'Northeast',\n",
    "    'Pennsylvania' : 'Northeast',\n",
    "    'New Jersey' : 'Northeast',\n",
    "        'Wisconsin' : 'Midwest',\n",
    "        'Michigan' : 'Midwest',\n",
    "        'Illinois' : 'Midwest',\n",
    "        'Indiana' : 'Midwest',\n",
    "        'Ohio' : 'Midwest',\n",
    "        'North Dakota' : 'Midwest',\n",
    "        'South Dakota' : 'Midwest',\n",
    "        'Nebraska' : 'Midwest',\n",
    "        'Kansas' : 'Midwest', \n",
    "        'Minnesota' : 'Midwest', \n",
    "        'Iowa' : 'Midwest',\n",
    "        'Missouri' : 'Midwest',\n",
    "            'Delaware' : 'South',\n",
    "            'Maryland' : 'South',\n",
    "            'District of Columbia' : 'South',\n",
    "            'Virginia' : 'South',\n",
    "            'West Virginia' : 'South',\n",
    "            'North Carolina' : 'South',\n",
    "            'South Carolina' : 'South',\n",
    "            'Georgia' : 'South',\n",
    "            'Florida' : 'South',\n",
    "            'Kentucky' : 'South',\n",
    "            'Tennessee' : 'South',\n",
    "            'Mississippi' : 'South',\n",
    "            'Alabama' : 'South',\n",
    "            'Oklahoma' : 'South',\n",
    "            'Texas' : 'South',\n",
    "            'Arkansas' : 'South',\n",
    "            'Louisiana' : 'South',\n",
    "                'Idaho' : 'West',\n",
    "                'Montana' : 'West',\n",
    "                'Wyoming' : 'West',\n",
    "                'Nevada' : 'West',\n",
    "                'Utah' : 'West',\n",
    "                'Colorado' : 'West',\n",
    "                'Arizona' : 'West',\n",
    "                'New Mexico' : 'West',\n",
    "                'Alaska' : 'West',\n",
    "                'Washington' : 'West',\n",
    "                'Oregon' : 'West',\n",
    "                'California' : 'West',\n",
    "                'Hawaii' : 'West'\n",
    "}   "
   ]
  },
  {
   "cell_type": "code",
   "execution_count": null,
   "id": "44dff727",
   "metadata": {
    "scrolled": true
   },
   "outputs": [],
   "source": [
    "# region check\n",
    "print(region_map)"
   ]
  },
  {
   "cell_type": "code",
   "execution_count": null,
   "id": "9fb2ec87",
   "metadata": {},
   "outputs": [],
   "source": [
    "# applying regions to data\n",
    "df.loc[:, 'Region'] = df['STATE'].map(region_map)"
   ]
  },
  {
   "cell_type": "code",
   "execution_count": null,
   "id": "b7698d63",
   "metadata": {},
   "outputs": [],
   "source": [
    "# region check\n",
    "df['Region'].head()"
   ]
  },
  {
   "cell_type": "markdown",
   "id": "7d8565f5",
   "metadata": {},
   "source": [
    "# Regional Spending"
   ]
  },
  {
   "cell_type": "code",
   "execution_count": null,
   "id": "68d8d023",
   "metadata": {},
   "outputs": [],
   "source": [
    "# regional spending cross tab\n",
    "ctr = pd.crosstab(df['Region'], df['spend_flag'])"
   ]
  },
  {
   "cell_type": "code",
   "execution_count": null,
   "id": "2c01ca90",
   "metadata": {
    "scrolled": true
   },
   "outputs": [],
   "source": [
    "# crosstab output\n",
    "ctr"
   ]
  },
  {
   "cell_type": "code",
   "execution_count": null,
   "id": "b75dfd79",
   "metadata": {},
   "outputs": [],
   "source": [
    "ctr.to_clipboard()"
   ]
  },
  {
   "cell_type": "markdown",
   "id": "981b6ecb",
   "metadata": {},
   "source": [
    "The south is the largest overall region and makes up the largest population of both high and low spenders. There is little difference in the spending habits from region to region. "
   ]
  },
  {
   "cell_type": "markdown",
   "id": "832def1f",
   "metadata": {},
   "source": [
    "# Low Activity Removal"
   ]
  },
  {
   "cell_type": "code",
   "execution_count": null,
   "id": "8b5909b2",
   "metadata": {},
   "outputs": [],
   "source": [
    "# setting low activity parameter\n",
    "df['low_activity'] = df['max_order'] < 5"
   ]
  },
  {
   "cell_type": "code",
   "execution_count": null,
   "id": "a714a21d",
   "metadata": {},
   "outputs": [],
   "source": [
    "# defiing df\n",
    "df_no_la = df[~df['low_activity']]"
   ]
  },
  {
   "cell_type": "code",
   "execution_count": null,
   "id": "ac991e16",
   "metadata": {},
   "outputs": [],
   "source": [
    "# data check\n",
    "df_no_la.tail(100)"
   ]
  },
  {
   "cell_type": "markdown",
   "id": "35599a5d",
   "metadata": {},
   "source": [
    "# Creating Profile Variables"
   ]
  },
  {
   "cell_type": "markdown",
   "id": "159ccc06",
   "metadata": {},
   "source": [
    "# Age Groups"
   ]
  },
  {
   "cell_type": "code",
   "execution_count": null,
   "id": "75bf5f9f",
   "metadata": {},
   "outputs": [],
   "source": [
    "# min age\n",
    "df_no_la['Age'].min()"
   ]
  },
  {
   "cell_type": "code",
   "execution_count": null,
   "id": "30537c4b",
   "metadata": {},
   "outputs": [],
   "source": [
    "# max age\n",
    "df_no_la['Age'].max()"
   ]
  },
  {
   "cell_type": "code",
   "execution_count": null,
   "id": "aa54d6ba",
   "metadata": {},
   "outputs": [],
   "source": [
    "# Creating Age groups\n",
    "\n",
    "# Age group -> 18 to 29 years old\n",
    "\n",
    "df_no_la.loc[(df_no_la['Age'] >= 18) & (df_no_la['Age'] <= 29), 'Age_group'] = '18-29 years old'\n",
    "\n",
    "# Age group -> 30 to 64 years old\n",
    "\n",
    "df_no_la.loc[(df_no_la['Age'] >= 30) & (df_no_la['Age'] <= 44), 'Age_group'] = '30-44 years old'\n",
    "\n",
    "# Age group -> 45 to 59 years old\n",
    "df_no_la.loc[(df_no_la['Age'] >= 45) & (df_no_la['Age'] <= 59), 'Age_group'] = '45-59 years old'\n",
    "\n",
    "# Age group -> 60 to 81 years old\n",
    "\n",
    "df_no_la.loc[(df_no_la['Age'] >= 60) & (df_no_la['Age'] <= 81), 'Age_group'] = '60-81 years old'"
   ]
  },
  {
   "cell_type": "code",
   "execution_count": null,
   "id": "f6104f46",
   "metadata": {},
   "outputs": [],
   "source": [
    "# Age group check\n",
    "df_no_la['Age_group'].value_counts(dropna = False)"
   ]
  },
  {
   "cell_type": "markdown",
   "id": "20ae99d7",
   "metadata": {},
   "source": [
    "# Income groups"
   ]
  },
  {
   "cell_type": "code",
   "execution_count": null,
   "id": "99567bff",
   "metadata": {},
   "outputs": [],
   "source": [
    "df_no_la['income'].min()"
   ]
  },
  {
   "cell_type": "code",
   "execution_count": null,
   "id": "e575ba6c",
   "metadata": {},
   "outputs": [],
   "source": [
    "df_no_la['income'].median()"
   ]
  },
  {
   "cell_type": "code",
   "execution_count": null,
   "id": "75901a59",
   "metadata": {},
   "outputs": [],
   "source": [
    "df_no_la['income'].max()"
   ]
  },
  {
   "cell_type": "code",
   "execution_count": null,
   "id": "f48b4af6",
   "metadata": {},
   "outputs": [],
   "source": [
    "# Income Groups\n",
    "\n",
    "# Under $75K\n",
    "\n",
    "df_no_la.loc[df_no_la['income'] < 75000,'income_group'] = 'Low income'\n",
    "\n",
    "# Between $75 and $125K\n",
    "\n",
    "df_no_la.loc[(df_no_la['income'] >= 75000) & (df_no_la['income'] < 125000),'income_group'] = 'Middle income'\n",
    "\n",
    "# Above $125K\n",
    "\n",
    "df_no_la.loc[df_no_la['income'] >= 125000, 'income_group'] = 'High income'"
   ]
  },
  {
   "cell_type": "code",
   "execution_count": null,
   "id": "2661a153",
   "metadata": {},
   "outputs": [],
   "source": [
    "# income group check\n",
    "df_no_la['income_group'].value_counts(dropna = False)"
   ]
  },
  {
   "cell_type": "markdown",
   "id": "cfe6da10",
   "metadata": {},
   "source": [
    "# Dependant Groups"
   ]
  },
  {
   "cell_type": "code",
   "execution_count": null,
   "id": "27b2822b",
   "metadata": {},
   "outputs": [],
   "source": [
    "# Dependant Groups\n",
    "\n",
    "# No dependant group\n",
    "\n",
    "df_no_la.loc[df_no_la['dependants'] <= 0, 'dependants_group'] = 'no dependants'\n",
    "\n",
    "# Has dependants\n",
    "\n",
    "df_no_la.loc[df_no_la['dependants'] > 0, 'dependants_group'] = 'has dependants'"
   ]
  },
  {
   "cell_type": "code",
   "execution_count": null,
   "id": "0ca469cc",
   "metadata": {},
   "outputs": [],
   "source": [
    "# dependant group check\n",
    "df_no_la['dependants_group'].value_counts(dropna = False)"
   ]
  },
  {
   "cell_type": "markdown",
   "id": "89c6bf36",
   "metadata": {},
   "source": [
    "# Creating Profiles"
   ]
  },
  {
   "cell_type": "code",
   "execution_count": null,
   "id": "cf9dd74e",
   "metadata": {},
   "outputs": [],
   "source": [
    "# Age, Marital Status, Dependants profile\n",
    "\n",
    "# Single young adult no dependants\n",
    "\n",
    "df_no_la.loc[(df_no_la['Age_group']== '18-29 years old') & (df_no_la['fam_status'].isin(['single', 'divorced/widowed'])) & (df_no_la['dependants_group'] == 'no dependants'),'profile_1']= 'single young adult no dependants'\n",
    "\n",
    "# Single adult no dependants\n",
    "\n",
    "df_no_la.loc[(df_no_la['Age_group'].isin(['30-44 years old', '45-59 years old'])) & (df_no_la['fam_status'].isin(['single', 'divorced/widowed'])) & (df_no_la['dependants_group'] == 'no dependants'),'profile_1']= 'single adult no dependants'\n",
    "\n",
    "# Single older adult no dependants\n",
    "\n",
    "df_no_la.loc[(df_no_la['Age_group'] == '60-81 years old') & (df_no_la['fam_status'].isin(['single', 'divorced/widowed'])) & (df_no_la['dependants_group'] == 'no dependants'),'profile_1']= 'single older adult no dependants'\n",
    "\n",
    "# Single young adult with dependants\n",
    "\n",
    "df_no_la.loc[(df_no_la['Age_group']== '18-29 years old') & (df_no_la['fam_status'] == 'living with parents and siblings') & (df_no_la['dependants_group'] == 'has dependants'),'profile_1']= 'single young adult with dependants'\n",
    "\n",
    "# Single adult with dependants\n",
    "\n",
    "df_no_la.loc[(df_no_la['Age_group'].isin(['30-44 years old', '45-59 years old'])) & (df_no_la['fam_status'] == 'living with parents and siblings') & (df_no_la['dependants_group'] == 'has dependants'),'profile_1']= 'single adult with dependants'\n",
    "\n",
    "#single older adult with dependants\n",
    "\n",
    "df_no_la.loc[(df_no_la['Age_group'] == '60-81 years old') & (df_no_la['fam_status']== 'living with parents and siblings') & (df_no_la['dependants_group'] == 'has dependants'),'profile_1']= 'single older adult with dependants'\n",
    "\n",
    "# Married young adult with dependants\n",
    "\n",
    "df_no_la.loc[(df_no_la['Age_group']== '18-29 years old') & (df_no_la['fam_status']== 'married') & (df_no_la['dependants_group'] == 'has dependants'),'profile_1']= 'married young adult with dependants'\n",
    "\n",
    "# Married adult with dependants\n",
    "\n",
    "df_no_la.loc[(df_no_la['Age_group'].isin(['30-44 years old', '45-59 years old'])) & (df_no_la['fam_status'] == 'married') & (df_no_la['dependants_group'] == 'has dependants'),'profile_1']= 'married adult with dependants'\n",
    "\n",
    "# Married older adult with dependants\n",
    "\n",
    "df_no_la.loc[(df_no_la['Age_group'] == '60-81 years old') & (df_no_la['fam_status']== 'married') & (df_no_la['dependants_group'] == 'has dependants'),'profile_1']= 'married older adult with dependants'\n"
   ]
  },
  {
   "cell_type": "code",
   "execution_count": null,
   "id": "f68c3751",
   "metadata": {},
   "outputs": [],
   "source": [
    "# Data check\n",
    "df_no_la['profile_1'].value_counts(dropna = False)"
   ]
  },
  {
   "cell_type": "code",
   "execution_count": 28,
   "id": "f8f68579",
   "metadata": {
    "scrolled": true
   },
   "outputs": [
    {
     "name": "stderr",
     "output_type": "stream",
     "text": [
      "/var/folders/t3/4npgv6wn6nq82fyq24sbf8k40000gp/T/ipykernel_36730/1375993385.py:5: SettingWithCopyWarning: \n",
      "A value is trying to be set on a copy of a slice from a DataFrame.\n",
      "Try using .loc[row_indexer,col_indexer] = value instead\n",
      "\n",
      "See the caveats in the documentation: https://pandas.pydata.org/pandas-docs/stable/user_guide/indexing.html#returning-a-view-versus-a-copy\n",
      "  df_no_la.loc[(df_no_la['Age_group']== '18-29 years old') & (df_no_la['fam_status'].isin(['single', 'divorced/widowed'])) & (df_no_la['income_group']=='Low income') & (df_no_la['dependants_group'] == 'no dependants'),'profile_2']= 'low income single young adult no dependants'\n"
     ]
    }
   ],
   "source": [
    "# Age, marital status, income, and number of dependants profile\n",
    "\n",
    "# Low income single young adult no dependants\n",
    "\n",
    "df_no_la.loc[(df_no_la['Age_group']== '18-29 years old') & (df_no_la['fam_status'].isin(['single', 'divorced/widowed'])) & (df_no_la['income_group']=='Low income') & (df_no_la['dependants_group'] == 'no dependants'),'profile_2']= 'low income single young adult no dependants'\n",
    "\n",
    "# Low income single adult no dependants\n",
    "\n",
    "df_no_la.loc[(df_no_la['Age_group'].isin(['30-44 years old', '45-59 years old'])) & (df_no_la['fam_status'].isin(['single', 'divorced/widowed'])) & (df_no_la['income_group']=='Low income') & (df_no_la['dependants_group'] == 'no dependants'),'profile_2']= 'low income single adult no dependants'\n",
    "\n",
    "# Low income single older adult no dependants\n",
    "\n",
    "df_no_la.loc[(df_no_la['Age_group'] == '60-81 years old') & (df_no_la['fam_status'].isin(['single', 'divorced/widowed'])) & (df_no_la['income_group']=='Low income') & (df_no_la['dependants_group'] == 'no dependants'),'profile_2']= 'low income single older adult no dependants'\n",
    "\n",
    "# Low income single young adult with dependants\n",
    "\n",
    "df_no_la.loc[(df_no_la['Age_group']== '18-29 years old') & (df_no_la['fam_status'] == 'living with parents and siblings') & (df_no_la['income_group']=='Low income') & (df_no_la['dependants_group'] == 'has dependants'),'profile_2']= 'low income single young adult with dependants'\n",
    "\n",
    "# Low income single adult with dependants\n",
    "\n",
    "df_no_la.loc[(df_no_la['Age_group'].isin(['30-44 years old', '45-59 years old'])) & (df_no_la['fam_status'] == 'living with parents and siblings') & (df_no_la['income_group']=='Low income') & (df_no_la['dependants_group'] == 'has dependants'),'profile_2']= 'low income single adult with dependants'\n",
    "\n",
    "# Low income single older adult with dependants\n",
    "\n",
    "df_no_la.loc[(df_no_la['Age_group'] == '60-81 years old') & (df_no_la['fam_status'] == 'living with parents and siblings') & (df_no_la['income_group']=='Low income') & (df_no_la['dependants_group'] == 'has dependants'),'profile_2']= 'low income single older adult with dependants'\n",
    "\n",
    "# Low income married young adult with dependants\n",
    "\n",
    "df_no_la.loc[(df_no_la['Age_group']== '18-29 years old') & (df_no_la['fam_status'] == 'married') & (df_no_la['income_group']=='Low income') & (df_no_la['dependants_group'] == 'has dependants'),'profile_2']= 'low income married young adult with dependants'\n",
    "\n",
    "# Low income married adult with dependants\n",
    "\n",
    "df_no_la.loc[(df_no_la['Age_group'].isin(['30-44 years old','45-59 years old'])) & (df_no_la['fam_status'] == 'married') & (df_no_la['income_group']=='Low income') & (df_no_la['dependants_group'] == 'has dependants'),'profile_2']= 'low income married adult with dependants'\n",
    "\n",
    "# Low income married older adult with dependants\n",
    "\n",
    "df_no_la.loc[(df_no_la['Age_group'] == '60-81 years old') & (df_no_la['fam_status'] == 'married') & (df_no_la['income_group']== 'Low income') & (df_no_la['dependants_group'] == 'has dependants'),'profile_2']= 'low income married older adult with dependants'\n",
    "\n",
    "# Mid income single young adult no dependants\n",
    "\n",
    "df_no_la.loc[(df_no_la['Age_group']== '18-29 years old') & (df_no_la['fam_status'].isin(['single', 'divorced/widowed'])) & (df_no_la['income_group']=='Middle income') & (df_no_la['dependants_group'] == 'no dependants'),'profile_2']= 'mid income single young adult no dependants'\n",
    "\n",
    "# Mid income single adult no dependants\n",
    "\n",
    "df_no_la.loc[(df_no_la['Age_group'].isin(['30-44 years old', '45-59 years old'])) & (df_no_la['fam_status'].isin(['single', 'divorced/widowed'])) & (df_no_la['income_group']=='Middle income') & (df_no_la['dependants_group'] == 'no dependants'),'profile_2']= 'mid income single adult no dependants'\n",
    "\n",
    "# Mid income single older adult no dependants\n",
    "\n",
    "df_no_la.loc[(df_no_la['Age_group'] == '60-81 years old') & (df_no_la['fam_status'].isin(['single', 'divorced/widowed'])) & (df_no_la['income_group']=='Middle income') & (df_no_la['dependants_group'] == 'no dependants'),'profile_2']= 'mid income single older adult no dependants'\n",
    "\n",
    "# Mid income single young adult with dependants\n",
    "\n",
    "df_no_la.loc[(df_no_la['Age_group']== '18-29 years old') & (df_no_la['fam_status'] =='living with parents and siblings') & (df_no_la['income_group']=='Middle income') & (df_no_la['dependants_group'] == 'has dependants'),'profile_2']= 'mid income single young adult with dependants'\n",
    "\n",
    "# Mid income single adult with dependants\n",
    "\n",
    "df_no_la.loc[(df_no_la['Age_group'].isin(['30-44 years old', '45-59 years old'])) & (df_no_la['fam_status'] == 'living with parents and siblings') & (df_no_la['income_group']=='Middle income') & (df_no_la['dependants_group'] == 'has dependants'),'profile_2']= 'mid income single adult with dependants'\n",
    "\n",
    "# Mid income single older adult with dependants\n",
    "\n",
    "df_no_la.loc[(df_no_la['Age_group'] == '60-81 years old') & (df_no_la['fam_status'] == 'living with parents and siblings') & (df_no_la['income_group']=='Middle income') & (df_no_la['dependants_group'] == 'has dependants'),'profile_2']= 'mid income single older adult with dependants'\n",
    "\n",
    "# Mid income married young adult with dependants\n",
    "\n",
    "df_no_la.loc[(df_no_la['Age_group']== '18-29 years old') & (df_no_la['fam_status'] == 'married') & (df_no_la['income_group']=='Middle income') & (df_no_la['dependants_group'] == 'has dependants'),'profile_2']= 'mid income married young adult with dependants'\n",
    "\n",
    "# Mid income married adult with dependants\n",
    "\n",
    "df_no_la.loc[(df_no_la['Age_group'].isin(['30-44 years old', '45-59 years old'])) & (df_no_la['fam_status'] == 'married') & (df_no_la['income_group']=='Middle income') & (df_no_la['dependants_group'] == 'has dependants'),'profile_2']= 'mid income married adult with dependants'\n",
    "\n",
    "# Mid income married older adult with dependants\n",
    "\n",
    "df_no_la.loc[(df_no_la['Age_group'] == '60-81 years old') & (df_no_la['fam_status'] == 'married') & (df_no_la['income_group']=='Middle income') & (df_no_la['dependants_group'] == 'has dependants'),'profile_2']= 'mid income married older adult with dependants'\n",
    "\n",
    "# High income single young adult no dependants\n",
    "\n",
    "df_no_la.loc[(df_no_la['Age_group']== '18-29 years old') & (df_no_la['fam_status'].isin(['single', 'divorced/widowed'])) & (df_no_la['income_group']=='High income') & (df_no_la['dependants_group'] == 'no dependants'),'profile_2']= 'high income single young adult no dependants'\n",
    "\n",
    "# High income single adult no dependants\n",
    "\n",
    "df_no_la.loc[(df_no_la['Age_group'].isin(['30-44 years old', '45-59 years old'])) & (df_no_la['fam_status'].isin(['single', 'divorced/widowed'])) & (df_no_la['income_group']=='High income') & (df_no_la['dependants_group'] == 'no dependants'),'profile_2']= 'high income single adult no dependants'\n",
    "\n",
    "# High income single older adult no dependants\n",
    "\n",
    "df_no_la.loc[(df_no_la['Age_group'] == '60-81 years old') & (df_no_la['fam_status'].isin(['single', 'divorced/widowed'])) & (df_no_la['income_group']=='High income') & (df_no_la['dependants_group'] == 'no dependants'),'profile_2']= 'high income single older adult no dependants'\n",
    "\n",
    "# High income single young adult with dependants\n",
    "\n",
    "df_no_la.loc[(df_no_la['Age_group']== '18-29 years old') & (df_no_la['fam_status'] == 'living with parents and siblings') & (df_no_la['income_group']=='High income') & (df_no_la['dependants_group'] == 'has dependants'),'profile_2']= 'high income single young adult with dependants'\n",
    "\n",
    "# High income single adult with dependants\n",
    "\n",
    "df_no_la.loc[(df_no_la['Age_group'].isin(['30-44 years old', '45-59 years old'])) & (df_no_la['fam_status'] == 'living with parents and siblings') & (df_no_la['income_group']=='High income') & (df_no_la['dependants_group'] == 'has dependants'),'profile_2']= 'high income single adult with dependants'\n",
    "\n",
    "# High income single older adult with dependants\n",
    "\n",
    "df_no_la.loc[(df_no_la['Age_group'] == '60-81 years old') & (df_no_la['fam_status'] == 'living with parents and siblings') & (df_no_la['income_group']=='High income') & (df_no_la['dependants_group'] == 'has dependants'),'profile_2']= 'high income single older adult with dependants'\n",
    "\n",
    "# High income married young adult with dependants\n",
    "\n",
    "df_no_la.loc[(df_no_la['Age_group']== '18-29 years old') & (df_no_la['fam_status'] == 'married') & (df_no_la['income_group']=='High income') & (df_no_la['dependants_group'] == 'has dependants'),'profile_2']= 'high income married young adult with dependants'\n",
    "\n",
    "# High income married adult with dependants\n",
    "\n",
    "df_no_la.loc[(df_no_la['Age_group'].isin(['30-44 years old', '45-59 years old'])) & (df_no_la['fam_status'] == 'married') & (df_no_la['income_group']=='High income') & (df_no_la['dependants_group'] == 'has dependants'),'profile_2']= 'high income married adult with dependants'\n",
    "\n",
    "# High income married older adult with dependants\n",
    "\n",
    "df_no_la.loc[(df_no_la['Age_group'] == '60-81 years old') & (df_no_la['fam_status'] == 'married') & (df_no_la['income_group']=='High income') & (df_no_la['dependants_group'] == 'has dependants'),'profile_2']= 'high income married older adult with dependants'\n"
   ]
  },
  {
   "cell_type": "code",
   "execution_count": null,
   "id": "1394c574",
   "metadata": {},
   "outputs": [],
   "source": [
    "# Profile check\n",
    "df_no_la['profile_2'].value_counts()"
   ]
  },
  {
   "cell_type": "code",
   "execution_count": null,
   "id": "d8af7678",
   "metadata": {},
   "outputs": [],
   "source": [
    "# Profile 1 bar chart\n",
    "Profile_Bar_1 = df_no_la['profile_1'].value_counts(dropna = False).plot.barh(title = 'Age and Dependant Profile', xlabel = \"Customers\", ylabel = 'Customer Profile')\n",
    "\n",
    "# Formatting chart to reflect total customer count\n",
    "\n",
    "Profile_Bar_1.xaxis.set_major_formatter(plt.FuncFormatter(lambda y,pos: format(y/100000,'1.00f')+'K'))"
   ]
  },
  {
   "cell_type": "code",
   "execution_count": null,
   "id": "03d1ef0f",
   "metadata": {},
   "outputs": [],
   "source": [
    "# Exporting Chart\n",
    "Profile_Bar_1.figure.savefig(os.path.join(path, '04. Analysis', 'Visualizations', 'Profile Bar 1.png'))"
   ]
  },
  {
   "cell_type": "code",
   "execution_count": null,
   "id": "feba59d4",
   "metadata": {},
   "outputs": [],
   "source": [
    "# Profile 2 chart\n",
    "Profile_Bar_2 = df_no_la['profile_2'].value_counts(dropna = False).plot.barh(title = 'Age, Dependant, and Income Profile', xlabel = \"Customer Profile\", ylabel = 'Customers')\n",
    "\n",
    "# Formatting chart to show total customers\n",
    "\n",
    "Profile_Bar_2.xaxis.set_major_formatter(plt.FuncFormatter(lambda y,pos: format(y/100000,'1.00f')+'K'))"
   ]
  },
  {
   "cell_type": "code",
   "execution_count": null,
   "id": "a232ff9c",
   "metadata": {},
   "outputs": [],
   "source": [
    "Profile_Bar_2.figure.savefig(os.path.join(path, '04. Analysis', 'Visualizations', 'Profile Bar 2.png'))"
   ]
  },
  {
   "cell_type": "markdown",
   "id": "c6ff89f4",
   "metadata": {},
   "source": [
    "# Aggregating Values"
   ]
  },
  {
   "cell_type": "code",
   "execution_count": null,
   "id": "5c330c45",
   "metadata": {},
   "outputs": [],
   "source": [
    "# aggregating days since prior order and prices data for each age group\n",
    "Age_group_stats = df_no_la.groupby('Age_group')[['days_since_prior_order', 'prices']].agg(['min', 'max', 'mean'])"
   ]
  },
  {
   "cell_type": "code",
   "execution_count": null,
   "id": "34f23f58",
   "metadata": {},
   "outputs": [],
   "source": [
    "# data check\n",
    "Age_group_stats"
   ]
  },
  {
   "cell_type": "code",
   "execution_count": null,
   "id": "aa50c0ed",
   "metadata": {},
   "outputs": [],
   "source": [
    "# aggregating days since prior order and prices data for each income group\n",
    "Income_group_stats = df_no_la.groupby('income_group')[['days_since_prior_order', 'prices']].agg(['min', 'max', 'mean'])"
   ]
  },
  {
   "cell_type": "code",
   "execution_count": null,
   "id": "25de78b5",
   "metadata": {},
   "outputs": [],
   "source": [
    "# data check\n",
    "Income_group_stats"
   ]
  },
  {
   "cell_type": "code",
   "execution_count": null,
   "id": "d6fb8a38",
   "metadata": {},
   "outputs": [],
   "source": [
    "# aggregating days since prior order and prices data for each dependant group\n",
    "dependant_group_stats = df_no_la.groupby('dependants_group')[['days_since_prior_order', 'prices']].agg(['min', 'max', 'mean'])"
   ]
  },
  {
   "cell_type": "code",
   "execution_count": null,
   "id": "f698514c",
   "metadata": {},
   "outputs": [],
   "source": [
    "# data check\n",
    "dependant_group_stats"
   ]
  },
  {
   "cell_type": "code",
   "execution_count": null,
   "id": "001f32c4",
   "metadata": {},
   "outputs": [],
   "source": [
    "age_group_freq = pd.crosstab(df_no_la['freq_flag'], df_no_la['Age_group'], dropna = False)"
   ]
  },
  {
   "cell_type": "code",
   "execution_count": null,
   "id": "d6dab8a8",
   "metadata": {},
   "outputs": [],
   "source": [
    "age_group_freq"
   ]
  },
  {
   "cell_type": "code",
   "execution_count": null,
   "id": "16c4a091",
   "metadata": {},
   "outputs": [],
   "source": [
    "\n",
    "# Group by customer 'profile_1' and 'region'\n",
    "\n",
    "profile_1_regional = df_no_la.groupby(['profile_1','Region']).size().unstack()\n",
    "\n",
    "# Sort\n",
    "\n",
    "profile_1_regional = profile_1_regional.loc[profile_1_regional.sum(axis = 1).sort_values(ascending = True).index]\n",
    "\n",
    "# Chart\n",
    "\n",
    "profile_1_regional = profile_1_regional.plot.barh(stacked = True, title ='Customer Profile 1 by Region')\n"
   ]
  },
  {
   "cell_type": "code",
   "execution_count": null,
   "id": "00ce1426",
   "metadata": {},
   "outputs": [],
   "source": [
    "# Exporting Chart\n",
    "profile_1_regional.figure.savefig(os.path.join(path, '04. Analysis', 'Visualizations', 'profile_1_regional.png'))"
   ]
  },
  {
   "cell_type": "code",
   "execution_count": null,
   "id": "d8392806",
   "metadata": {},
   "outputs": [],
   "source": [
    "# Group by customer 'profile_2' and 'region'\n",
    "\n",
    "profile_2_regional = df_no_la.groupby(['profile_2','Region']).size().unstack()\n",
    "\n",
    "# Sort\n",
    "\n",
    "profile_2_regional = profile_2_regional.loc[profile_2_regional.sum(axis=1).sort_values(ascending = True).index]\n",
    "\n",
    "# Chart\n",
    "\n",
    "profile_2_regional = profile_2_regional.plot.barh(stacked = True, title ='Regional Profile 2')\n",
    "\n"
   ]
  },
  {
   "cell_type": "code",
   "execution_count": null,
   "id": "e268bcc8",
   "metadata": {},
   "outputs": [],
   "source": [
    "# Exporting Chart\n",
    "profile_2_regional.figure.savefig(os.path.join(path, '04. Analysis', 'Visualizations', 'profile_2_regional.png'))"
   ]
  },
  {
   "cell_type": "code",
   "execution_count": null,
   "id": "d5542ea6",
   "metadata": {},
   "outputs": [],
   "source": [
    "df_no_la['department_id'].value_counts()"
   ]
  },
  {
   "cell_type": "code",
   "execution_count": null,
   "id": "ef8194b0",
   "metadata": {},
   "outputs": [],
   "source": [
    "# defining departments\n",
    "result = []\n",
    "for value in df_no_la['department_id']:\n",
    "    if value == 1:\n",
    "        result.append('Frozen')\n",
    "    elif value == 2:\n",
    "        result.append('Other')\n",
    "    elif value == 3:\n",
    "        result.append('Bakery')\n",
    "    elif value == 4:\n",
    "        result.append('Produce')\n",
    "    elif value == 5:\n",
    "        result.append('Alcohol')\n",
    "    elif value == 6:\n",
    "        result.append('International')\n",
    "    elif value == 7:\n",
    "        result.append('Beverages')\n",
    "    elif value == 8:\n",
    "        result.append('Pets')\n",
    "    elif value == 9:\n",
    "        result.append('Dry Goods Pasta')\n",
    "    elif value == 10:\n",
    "        result.append('Bulk')\n",
    "    elif value == 11:\n",
    "        result.append('Personal Care')\n",
    "    elif value == 12:\n",
    "        result.append('Meat/Seafood')\n",
    "    elif value == 13:\n",
    "        result.append('Pantry')\n",
    "    elif value == 14:\n",
    "        result.append('Breakfast')\n",
    "    elif value == 15:\n",
    "        result.append('Canned Goods')\n",
    "    elif value == 16:\n",
    "        result.append('Dairy/Eggs')\n",
    "    elif value == 17:\n",
    "        result.append('Household')\n",
    "    elif value == 18:\n",
    "        result.append('Babies')\n",
    "    elif value == 19:\n",
    "        result.append('Snacks')\n",
    "    elif value == 20:\n",
    "        result.append('Deli')\n",
    "    elif value == 21:\n",
    "        result.append('Missing')\n",
    "    else:\n",
    "        result.append ('NA')"
   ]
  },
  {
   "cell_type": "code",
   "execution_count": null,
   "id": "0ef1c4c2",
   "metadata": {},
   "outputs": [],
   "source": [
    "# data check\n",
    "result"
   ]
  },
  {
   "cell_type": "code",
   "execution_count": null,
   "id": "9150c5d1",
   "metadata": {},
   "outputs": [],
   "source": [
    "# creating dept column\n",
    "df_no_la['Department'] = result"
   ]
  },
  {
   "cell_type": "code",
   "execution_count": null,
   "id": "6dfa3d33",
   "metadata": {},
   "outputs": [],
   "source": [
    "# Profile 1 and Dept. group\n",
    "Profile_1_dept = df_no_la.groupby(['profile_1','Department']).size().unstack()\n",
    "\n",
    "# Sort\n",
    "\n",
    "Profile_1_dept = Profile_1_dept.loc[Profile_1_dept.sum(axis = 1).sort_values(ascending = True).index]\n",
    "\n",
    "# Chart\n",
    "\n",
    "Profile_1_dept = Profile_1_dept.plot.barh(stacked = True, title = 'Profile 1 by Dept.', xlabel = 'Frequency', ylabel = 'Profile')\n",
    "\n"
   ]
  },
  {
   "cell_type": "code",
   "execution_count": null,
   "id": "3fdafa29",
   "metadata": {},
   "outputs": [],
   "source": [
    "# Exporting Chart\n",
    "Profile_1_dept.figure.savefig(os.path.join(path, '04. Analysis', 'Visualizations', 'Profile_1_dept.png'))"
   ]
  },
  {
   "cell_type": "code",
   "execution_count": null,
   "id": "7d1f0666",
   "metadata": {},
   "outputs": [],
   "source": [
    "# Profile 1 and Dept. group\n",
    "Profile_2_dept = df_no_la.groupby(['profile_2','Department']).size().unstack()\n",
    "\n",
    "# Sort\n",
    "Profile_2_dept = Profile_2_dept.loc[Profile_2_dept.sum(axis = 1).sort_values(ascending = True).index]\n",
    "\n",
    "# Chart\n",
    "Profile_2_dept = Profile_2_dept.plot.barh(stacked = True, title = 'Profile 2 by Dept.', xlabel = 'Frequency', ylabel = 'Profile')"
   ]
  },
  {
   "cell_type": "markdown",
   "id": "31628301",
   "metadata": {},
   "source": [
    "Produce is the top selling department regardless of demographic. \n",
    "\n",
    "Middle Income, married adults with dependants make up the most frequent user group "
   ]
  },
  {
   "cell_type": "code",
   "execution_count": null,
   "id": "cd9253bf",
   "metadata": {},
   "outputs": [],
   "source": [
    "# confirming Produce is the larger light blue bar\n",
    "df_no_la['Department'].value_counts()"
   ]
  },
  {
   "cell_type": "code",
   "execution_count": null,
   "id": "5717860a",
   "metadata": {},
   "outputs": [],
   "source": [
    "# Exporting Chart\n",
    "Profile_2_dept.figure.savefig(os.path.join(path, '04. Analysis', 'Visualizations', 'Profile_2_dept.png'))"
   ]
  },
  {
   "cell_type": "code",
   "execution_count": null,
   "id": "955ac952",
   "metadata": {
    "scrolled": true
   },
   "outputs": [],
   "source": [
    "Raw_Product_Freq = df_no_la['Department'].value_counts().plot.bar(title = 'Department Order Frequency', xlabel = 'Department', ylabel = 'Frequency')"
   ]
  },
  {
   "cell_type": "code",
   "execution_count": null,
   "id": "3779964e",
   "metadata": {},
   "outputs": [],
   "source": [
    "Raw_Product_Freq.figure.savefig(os.path.join(path, '04. Analysis', 'Visualizations', 'Raw_prod_freq.png'))"
   ]
  },
  {
   "cell_type": "code",
   "execution_count": null,
   "id": "e3eaece6",
   "metadata": {},
   "outputs": [],
   "source": []
  }
 ],
 "metadata": {
  "kernelspec": {
   "display_name": "Python 3 (ipykernel)",
   "language": "python",
   "name": "python3"
  },
  "language_info": {
   "codemirror_mode": {
    "name": "ipython",
    "version": 3
   },
   "file_extension": ".py",
   "mimetype": "text/x-python",
   "name": "python",
   "nbconvert_exporter": "python",
   "pygments_lexer": "ipython3",
   "version": "3.11.5"
  }
 },
 "nbformat": 4,
 "nbformat_minor": 5
}
